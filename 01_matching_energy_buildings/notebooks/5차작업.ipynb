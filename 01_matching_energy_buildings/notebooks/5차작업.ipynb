{
 "cells": [
  {
   "cell_type": "code",
   "execution_count": 2,
   "metadata": {},
   "outputs": [
    {
     "name": "stdout",
     "output_type": "stream",
     "text": [
      "최종 매칭 결과 (총 4194건):\n",
      "- 1차: 1585건 (37.8%)\n",
      "- 2차: 196건 (4.7%)\n",
      "- 3차: 714건 (17.0%)\n",
      "- 수동매칭(1차중복): 2건 (0.0%)\n",
      "- 수동매칭(2차중복): 1건 (0.0%)\n",
      "- 4차: 908건 (21.6%)\n",
      "- 4차(동점후보존재): 27건 (0.6%)\n",
      "- 미매칭(점수미달): 382건 (9.1%)\n",
      "- 미매칭(RECAP없음): 256건 (6.1%)\n",
      "- 미매칭(더높은점수존재): 31건 (0.7%)\n",
      "- 미매칭(누락복구): 92건 (2.2%)\n"
     ]
    }
   ],
   "source": [
    "# 총 데이터 건수\n",
    "total = 4194\n",
    "\n",
    "# 각 카테고리별 건수 (제공된 값)\n",
    "match_breakdown = {\n",
    "    \"1차\": 1585,\n",
    "    \"2차\": 196,\n",
    "    \"3차\": 714,\n",
    "    \"수동매칭(1차중복)\": 2,\n",
    "    \"수동매칭(2차중복)\": 1,\n",
    "    \"4차\": 908,\n",
    "    \"4차(동점후보존재)\": 27,\n",
    "    \"미매칭(점수미달)\": 382,\n",
    "    \"미매칭(RECAP없음)\": 256,\n",
    "    \"미매칭(더높은점수존재)\": 31,\n",
    "    \"미매칭(누락복구)\": 92\n",
    "}\n",
    "\n",
    "# 이미 분류된 건수의 합\n",
    "classified_total = sum(match_breakdown.values())\n",
    "\n",
    "# 기타(분류되지 않은 건수)\n",
    "others = total - classified_total\n",
    "\n",
    "print(\"최종 매칭 결과 (총 {}건):\".format(total))\n",
    "for stage, count in match_breakdown.items():\n",
    "    percentage = count / total * 100\n",
    "    print(f\"- {stage}: {count}건 ({percentage:.1f}%)\")\n",
    "\n",
    "# 기타 건수가 있다면 출력\n",
    "if others > 0:\n",
    "    others_percentage = others / total * 100\n",
    "    print(f\"- 기타: {others}건 ({others_percentage:.1f}%)\")\n"
   ]
  },
  {
   "cell_type": "code",
   "execution_count": null,
   "metadata": {},
   "outputs": [],
   "source": [
    "- 1차: 1585건\n",
    "- 4차: 908건\n",
    "- 3차: 714건\n",
    "- 미매칭(점수미달): 382건\n",
    "- 미매칭(RECAP없음): 256건\n",
    "- 2차: 196건\n",
    "- 미매칭(누락복구): 92건\n",
    "- 미매칭(더높은점수존재): 31건\n",
    "- 4차(동점후보존재): 27건\n",
    "- 수동매칭(1차중복): 2건\n",
    "- 수동매칭(2차중복): 1건"
   ]
  }
 ],
 "metadata": {
  "kernelspec": {
   "display_name": "GR_project_1",
   "language": "python",
   "name": "python3"
  },
  "language_info": {
   "codemirror_mode": {
    "name": "ipython",
    "version": 3
   },
   "file_extension": ".py",
   "mimetype": "text/x-python",
   "name": "python",
   "nbconvert_exporter": "python",
   "pygments_lexer": "ipython3",
   "version": "3.9.21"
  }
 },
 "nbformat": 4,
 "nbformat_minor": 2
}
