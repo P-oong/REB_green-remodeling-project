{
 "cells": [
  {
   "cell_type": "code",
   "execution_count": 1,
   "metadata": {},
   "outputs": [
    {
     "name": "stdout",
     "output_type": "stream",
     "text": [
      "EBD 컬럼: ['SEQ_NO', 'RECAP_PK', '지역', '용도', '면적', '연면적', '냉난방면적', '기관유형', '코드번호', '기관명', '건축물명', '주소', '지상', '지하', '사용승인연도', '건축물 등록일', '연간 단위면적당 1차 에너지 소비량 3개년 평균', '연간 단위면적당 1차 에너지 소비량 3개년 평균 중간값', '간절기 대비 소비량 비율[(냉방월 +난방월)/간절기월] 3개년 평균', '간절기 대비 소비량 비율[(냉방월 +난방월)/간절기월] 2개년 평균', '간절기 대비 소비량 비율[(냉방월 +난방월)/간절기월] 1개년 평균', '전기 (KWH)', '가스 (KWH)', '지역냉난방 (KWH)', '유류 (KWH)', '기타 (KWH)', '건축물 시설관리자 이름', '건축물 시설관리자  연락처', '건축물 에너지사용량 입력자 이름', '건축물 에너지사용량 입력자 연락처', 'EUI(1차E/냉난방 면적)', 'EUI(1차E/연면적)']\n",
      "BD 컬럼: ['RECAP_PK', 'BLD_TYPE_GB_CD', 'MGM_BLD_PK', 'MGM_UPPER_BLD_PK', 'REGSTR_GB_CD', 'REGSTR_KIND_CD', 'SIGUNGU_CD', 'BJDONG_CD', 'PLAT_GB_CD', 'BUN', 'JI', 'BLD_NM', 'DONG_NM', 'MAIN_ATCH_GB_CD', 'TOTAREA', 'MAIN_PURPS_CD', 'ETC_PURPS', 'USE_DATE', 'CYEAR', 'BLD_N', 'MULTI_YN', 'CYEAR_CD']\n"
     ]
    }
   ],
   "source": [
    "import pandas as pd\n",
    "ebd = pd.read_excel('../data/EBD_new_2.xlsx')\n",
    "bd = pd.read_excel('../data/BD_REGIST_no_remove3000.xlsx')\n",
    "print('EBD 컬럼:', ebd.columns.tolist())\n",
    "print('BD 컬럼:', bd.columns.tolist())"
   ]
  },
  {
   "cell_type": "code",
   "execution_count": 2,
   "metadata": {},
   "outputs": [
    {
     "name": "stdout",
     "output_type": "stream",
     "text": [
      "<class 'pandas.core.frame.DataFrame'>\n",
      "RangeIndex: 4194 entries, 0 to 4193\n",
      "Data columns (total 32 columns):\n",
      " #   Column                                 Non-Null Count  Dtype  \n",
      "---  ------                                 --------------  -----  \n",
      " 0   SEQ_NO                                 4194 non-null   int64  \n",
      " 1   RECAP_PK                               3938 non-null   object \n",
      " 2   지역                                     4194 non-null   object \n",
      " 3   용도                                     4194 non-null   object \n",
      " 4   면적                                     4194 non-null   object \n",
      " 5   연면적                                    4194 non-null   float64\n",
      " 6   냉난방면적                                  4194 non-null   float64\n",
      " 7   기관유형                                   4194 non-null   object \n",
      " 8   코드번호                                   4194 non-null   object \n",
      " 9   기관명                                    4194 non-null   object \n",
      " 10  건축물명                                   4194 non-null   object \n",
      " 11  주소                                     4194 non-null   object \n",
      " 12  지상                                     4189 non-null   float64\n",
      " 13  지하                                     4028 non-null   float64\n",
      " 14  사용승인연도                                 4194 non-null   object \n",
      " 15  건축물 등록일                                4194 non-null   object \n",
      " 16  연간 단위면적당 1차 에너지 소비량 3개년 평균             4194 non-null   object \n",
      " 17  연간 단위면적당 1차 에너지 소비량 3개년 평균 중간값         4194 non-null   int64  \n",
      " 18  간절기 대비 소비량 비율[(냉방월 +난방월)/간절기월] 3개년 평균  4194 non-null   float64\n",
      " 19  간절기 대비 소비량 비율[(냉방월 +난방월)/간절기월] 2개년 평균  4194 non-null   float64\n",
      " 20  간절기 대비 소비량 비율[(냉방월 +난방월)/간절기월] 1개년 평균  4194 non-null   float64\n",
      " 21  전기 (KWH)                               4194 non-null   float64\n",
      " 22  가스 (KWH)                               4194 non-null   float64\n",
      " 23  지역냉난방 (KWH)                            4194 non-null   float64\n",
      " 24  유류 (KWH)                               4194 non-null   float64\n",
      " 25  기타 (KWH)                               4194 non-null   float64\n",
      " 26  건축물 시설관리자 이름                           4110 non-null   object \n",
      " 27  건축물 시설관리자  연락처                         4110 non-null   object \n",
      " 28  건축물 에너지사용량 입력자 이름                      4110 non-null   object \n",
      " 29  건축물 에너지사용량 입력자 연락처                     4110 non-null   object \n",
      " 30  EUI(1차E/냉난방 면적)                        4194 non-null   float64\n",
      " 31  EUI(1차E/연면적)                           4194 non-null   float64\n",
      "dtypes: float64(14), int64(2), object(16)\n",
      "memory usage: 1.0+ MB\n"
     ]
    }
   ],
   "source": [
    "ebd.info()"
   ]
  },
  {
   "cell_type": "code",
   "execution_count": 3,
   "metadata": {},
   "outputs": [
    {
     "name": "stdout",
     "output_type": "stream",
     "text": [
      "<class 'pandas.core.frame.DataFrame'>\n",
      "RangeIndex: 13712 entries, 0 to 13711\n",
      "Data columns (total 22 columns):\n",
      " #   Column            Non-Null Count  Dtype  \n",
      "---  ------            --------------  -----  \n",
      " 0   RECAP_PK          13712 non-null  object \n",
      " 1   BLD_TYPE_GB_CD    13712 non-null  int64  \n",
      " 2   MGM_BLD_PK        13712 non-null  object \n",
      " 3   MGM_UPPER_BLD_PK  11387 non-null  object \n",
      " 4   REGSTR_GB_CD      13712 non-null  int64  \n",
      " 5   REGSTR_KIND_CD    13712 non-null  int64  \n",
      " 6   SIGUNGU_CD        13712 non-null  int64  \n",
      " 7   BJDONG_CD         13712 non-null  int64  \n",
      " 8   PLAT_GB_CD        13712 non-null  int64  \n",
      " 9   BUN               13712 non-null  int64  \n",
      " 10  JI                13712 non-null  int64  \n",
      " 11  BLD_NM            8573 non-null   object \n",
      " 12  DONG_NM           9543 non-null   object \n",
      " 13  MAIN_ATCH_GB_CD   13707 non-null  float64\n",
      " 14  TOTAREA           13712 non-null  float64\n",
      " 15  MAIN_PURPS_CD     13696 non-null  object \n",
      " 16  ETC_PURPS         13610 non-null  object \n",
      " 17  USE_DATE          12274 non-null  float64\n",
      " 18  CYEAR             12272 non-null  float64\n",
      " 19  BLD_N             13712 non-null  int64  \n",
      " 20  MULTI_YN          13712 non-null  object \n",
      " 21  CYEAR_CD          13712 non-null  int64  \n",
      "dtypes: float64(4), int64(10), object(8)\n",
      "memory usage: 2.3+ MB\n"
     ]
    }
   ],
   "source": [
    "bd.info()"
   ]
  },
  {
   "cell_type": "code",
   "execution_count": 7,
   "metadata": {},
   "outputs": [
    {
     "data": {
      "text/plain": [
       "0       10787.40\n",
       "1        5458.12\n",
       "2        4949.30\n",
       "3       10615.97\n",
       "4        4948.93\n",
       "          ...   \n",
       "4189    31242.00\n",
       "4190     4926.00\n",
       "4191    40968.00\n",
       "4192    54296.00\n",
       "4193    67356.00\n",
       "Name: 연면적, Length: 4194, dtype: float64"
      ]
     },
     "execution_count": 7,
     "metadata": {},
     "output_type": "execute_result"
    }
   ],
   "source": [
    "ebd['연면적']"
   ]
  },
  {
   "cell_type": "code",
   "execution_count": 6,
   "metadata": {},
   "outputs": [
    {
     "data": {
      "text/plain": [
       "0        8585.08\n",
       "1          46.08\n",
       "2        2785.42\n",
       "3         195.14\n",
       "4         118.61\n",
       "          ...   \n",
       "13707    2748.67\n",
       "13708       7.72\n",
       "13709      25.66\n",
       "13710    3547.92\n",
       "13711    6778.04\n",
       "Name: TOTAREA, Length: 13712, dtype: float64"
      ]
     },
     "execution_count": 6,
     "metadata": {},
     "output_type": "execute_result"
    }
   ],
   "source": [
    "bd['TOTAREA']"
   ]
  },
  {
   "cell_type": "code",
   "execution_count": null,
   "metadata": {},
   "outputs": [],
   "source": []
  }
 ],
 "metadata": {
  "kernelspec": {
   "display_name": "GR_project_1",
   "language": "python",
   "name": "python3"
  },
  "language_info": {
   "codemirror_mode": {
    "name": "ipython",
    "version": 3
   },
   "file_extension": ".py",
   "mimetype": "text/x-python",
   "name": "python",
   "nbconvert_exporter": "python",
   "pygments_lexer": "ipython3",
   "version": "3.9.21"
  }
 },
 "nbformat": 4,
 "nbformat_minor": 2
}
