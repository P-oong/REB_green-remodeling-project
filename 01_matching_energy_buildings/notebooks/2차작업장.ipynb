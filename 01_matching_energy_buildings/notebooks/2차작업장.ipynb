{
 "cells": [
  {
   "cell_type": "code",
   "execution_count": 3,
   "metadata": {},
   "outputs": [
    {
     "name": "stdout",
     "output_type": "stream",
     "text": [
      "EBD 컬럼: ['SEQ_NO', 'RECAP_PK', '지역', '용도', '면적', '연면적', '냉난방면적', '기관유형', '코드번호', '기관명', '건축물 명', '주소', '지상', '지하', '사용승인연도', '건축물 등록일', '연간 단위면적당 1차 에너지 소비량 3개년 평균', '연간 단위면적당 1차 에너지 소비량 3개년 평균 중간값', '간절기 대비 소비량 비율[(냉방월 +난방월)/간절기월] 3개년 평균', '간절기 대비 소비량 비율[(냉방월 +난방월)/간절기월] 2개년 평균', '간절기 대비 소비량 비율[(냉방월 +난방월)/간절기월] 1개년 평균', '전기 (KWH)', '가스 (KWH)', '지역냉난방 (KWH)', '유류 (KWH)', '기타 (KWH)', '건축물 시설관리자 이름', '건축물 시설관리자  연락처', '건축물 에너지사용량 입력자 이름', '건축물 에너지사용량 입력자 연락처', 'EUI(1차E/냉난방 면적)', 'EUI(1차E/연면적)']\n",
      "BD 컬럼: ['RECAP_PK', 'BLD_TYPE_GB_CD', 'MGM_BLD_PK', 'MGM_UPPER_BLD_PK', 'REGSTR_GB_CD', 'REGSTR_KIND_CD', 'SIGUNGU_CD', 'BJDONG_CD', 'PLAT_GB_CD', 'BUN', 'JI', 'BLD_NM', 'DONG_NM', 'MAIN_ATCH_GB_CD', 'TOTAREA', 'MAIN_PURPS_CD', 'ETC_PURPS', 'USE_DATE', 'CYEAR', 'BLD_N', 'MULTI_YN', 'CYEAR_CD']\n"
     ]
    }
   ],
   "source": [
    "import pandas as pd\n",
    "ebd = pd.read_excel('../data/EBD_new_2.xlsx')\n",
    "bd = pd.read_excel('../data/BD_REGIST_no_remove3000.xlsx')\n",
    "print('EBD 컬럼:', ebd.columns.tolist())\n",
    "print('BD 컬럼:', bd.columns.tolist())"
   ]
  },
  {
   "cell_type": "code",
   "execution_count": null,
   "metadata": {},
   "outputs": [],
   "source": []
  }
 ],
 "metadata": {
  "kernelspec": {
   "display_name": "GR_project_1",
   "language": "python",
   "name": "python3"
  },
  "language_info": {
   "codemirror_mode": {
    "name": "ipython",
    "version": 3
   },
   "file_extension": ".py",
   "mimetype": "text/x-python",
   "name": "python",
   "nbconvert_exporter": "python",
   "pygments_lexer": "ipython3",
   "version": "3.9.21"
  }
 },
 "nbformat": 4,
 "nbformat_minor": 2
}
